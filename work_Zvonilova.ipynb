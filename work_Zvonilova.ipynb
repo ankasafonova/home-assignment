{
 "cells": [
  {
   "cell_type": "markdown",
   "id": "33e98519",
   "metadata": {},
   "source": [
    "# Анализ датасета Netflix\n",
    "\n",
    "Проанализируем датасет, содержащий список **всех** фильмов и ТВ-шоу, доступных на Netflix.\n",
    "\n",
    "Что хотим понять?\n",
    "1. Особенности контента в разных странах. Где больше всего снимают материала?\n",
    "2. Что более популярно - ТВ-шоу или фильмы?\n",
    "3. Какова средняя продолжительность фильмов? Какой Разброс?\n",
    "4. Какие жанры фильмов наиболее популярны?\n",
    "5. Какой топ самых часто встречаемых актеров?\n",
    "6. Какие режиссеры наиболее популярны?\n",
    "\n",
    "\n",
    "\n",
    "Именно на эти вопросы и будем отвечать (в неопределенном порядке)."
   ]
  },
  {
   "cell_type": "code",
   "execution_count": 13,
   "id": "2d2c8cba",
   "metadata": {},
   "outputs": [],
   "source": [
    "import pandas as pd\n",
    "import matplotlib.pyplot as plt\n",
    "import seaborn as sns "
   ]
  },
  {
   "cell_type": "code",
   "execution_count": 14,
   "id": "ebbb6be4",
   "metadata": {},
   "outputs": [],
   "source": [
    "df = pd.read_csv(\"Data/netflix_titles.csv\")"
   ]
  },
  {
   "cell_type": "code",
   "execution_count": 15,
   "id": "8e3135bc",
   "metadata": {
    "scrolled": true
   },
   "outputs": [
    {
     "data": {
      "text/html": [
       "<div>\n",
       "<style scoped>\n",
       "    .dataframe tbody tr th:only-of-type {\n",
       "        vertical-align: middle;\n",
       "    }\n",
       "\n",
       "    .dataframe tbody tr th {\n",
       "        vertical-align: top;\n",
       "    }\n",
       "\n",
       "    .dataframe thead th {\n",
       "        text-align: right;\n",
       "    }\n",
       "</style>\n",
       "<table border=\"1\" class=\"dataframe\">\n",
       "  <thead>\n",
       "    <tr style=\"text-align: right;\">\n",
       "      <th></th>\n",
       "      <th>show_id</th>\n",
       "      <th>type</th>\n",
       "      <th>title</th>\n",
       "      <th>director</th>\n",
       "      <th>cast</th>\n",
       "      <th>country</th>\n",
       "      <th>date_added</th>\n",
       "      <th>release_year</th>\n",
       "      <th>rating</th>\n",
       "      <th>duration</th>\n",
       "      <th>listed_in</th>\n",
       "      <th>description</th>\n",
       "    </tr>\n",
       "  </thead>\n",
       "  <tbody>\n",
       "    <tr>\n",
       "      <th>0</th>\n",
       "      <td>s1</td>\n",
       "      <td>Movie</td>\n",
       "      <td>Dick Johnson Is Dead</td>\n",
       "      <td>Kirsten Johnson</td>\n",
       "      <td>NaN</td>\n",
       "      <td>United States</td>\n",
       "      <td>September 25, 2021</td>\n",
       "      <td>2020</td>\n",
       "      <td>PG-13</td>\n",
       "      <td>90 min</td>\n",
       "      <td>Documentaries</td>\n",
       "      <td>As her father nears the end of his life, filmm...</td>\n",
       "    </tr>\n",
       "    <tr>\n",
       "      <th>1</th>\n",
       "      <td>s2</td>\n",
       "      <td>TV Show</td>\n",
       "      <td>Blood &amp; Water</td>\n",
       "      <td>NaN</td>\n",
       "      <td>Ama Qamata, Khosi Ngema, Gail Mabalane, Thaban...</td>\n",
       "      <td>South Africa</td>\n",
       "      <td>September 24, 2021</td>\n",
       "      <td>2021</td>\n",
       "      <td>TV-MA</td>\n",
       "      <td>2 Seasons</td>\n",
       "      <td>International TV Shows, TV Dramas, TV Mysteries</td>\n",
       "      <td>After crossing paths at a party, a Cape Town t...</td>\n",
       "    </tr>\n",
       "    <tr>\n",
       "      <th>2</th>\n",
       "      <td>s3</td>\n",
       "      <td>TV Show</td>\n",
       "      <td>Ganglands</td>\n",
       "      <td>Julien Leclercq</td>\n",
       "      <td>Sami Bouajila, Tracy Gotoas, Samuel Jouy, Nabi...</td>\n",
       "      <td>NaN</td>\n",
       "      <td>September 24, 2021</td>\n",
       "      <td>2021</td>\n",
       "      <td>TV-MA</td>\n",
       "      <td>1 Season</td>\n",
       "      <td>Crime TV Shows, International TV Shows, TV Act...</td>\n",
       "      <td>To protect his family from a powerful drug lor...</td>\n",
       "    </tr>\n",
       "    <tr>\n",
       "      <th>3</th>\n",
       "      <td>s4</td>\n",
       "      <td>TV Show</td>\n",
       "      <td>Jailbirds New Orleans</td>\n",
       "      <td>NaN</td>\n",
       "      <td>NaN</td>\n",
       "      <td>NaN</td>\n",
       "      <td>September 24, 2021</td>\n",
       "      <td>2021</td>\n",
       "      <td>TV-MA</td>\n",
       "      <td>1 Season</td>\n",
       "      <td>Docuseries, Reality TV</td>\n",
       "      <td>Feuds, flirtations and toilet talk go down amo...</td>\n",
       "    </tr>\n",
       "    <tr>\n",
       "      <th>4</th>\n",
       "      <td>s5</td>\n",
       "      <td>TV Show</td>\n",
       "      <td>Kota Factory</td>\n",
       "      <td>NaN</td>\n",
       "      <td>Mayur More, Jitendra Kumar, Ranjan Raj, Alam K...</td>\n",
       "      <td>India</td>\n",
       "      <td>September 24, 2021</td>\n",
       "      <td>2021</td>\n",
       "      <td>TV-MA</td>\n",
       "      <td>2 Seasons</td>\n",
       "      <td>International TV Shows, Romantic TV Shows, TV ...</td>\n",
       "      <td>In a city of coaching centers known to train I...</td>\n",
       "    </tr>\n",
       "  </tbody>\n",
       "</table>\n",
       "</div>"
      ],
      "text/plain": [
       "  show_id     type                  title         director  \\\n",
       "0      s1    Movie   Dick Johnson Is Dead  Kirsten Johnson   \n",
       "1      s2  TV Show          Blood & Water              NaN   \n",
       "2      s3  TV Show              Ganglands  Julien Leclercq   \n",
       "3      s4  TV Show  Jailbirds New Orleans              NaN   \n",
       "4      s5  TV Show           Kota Factory              NaN   \n",
       "\n",
       "                                                cast        country  \\\n",
       "0                                                NaN  United States   \n",
       "1  Ama Qamata, Khosi Ngema, Gail Mabalane, Thaban...   South Africa   \n",
       "2  Sami Bouajila, Tracy Gotoas, Samuel Jouy, Nabi...            NaN   \n",
       "3                                                NaN            NaN   \n",
       "4  Mayur More, Jitendra Kumar, Ranjan Raj, Alam K...          India   \n",
       "\n",
       "           date_added  release_year rating   duration  \\\n",
       "0  September 25, 2021          2020  PG-13     90 min   \n",
       "1  September 24, 2021          2021  TV-MA  2 Seasons   \n",
       "2  September 24, 2021          2021  TV-MA   1 Season   \n",
       "3  September 24, 2021          2021  TV-MA   1 Season   \n",
       "4  September 24, 2021          2021  TV-MA  2 Seasons   \n",
       "\n",
       "                                           listed_in  \\\n",
       "0                                      Documentaries   \n",
       "1    International TV Shows, TV Dramas, TV Mysteries   \n",
       "2  Crime TV Shows, International TV Shows, TV Act...   \n",
       "3                             Docuseries, Reality TV   \n",
       "4  International TV Shows, Romantic TV Shows, TV ...   \n",
       "\n",
       "                                         description  \n",
       "0  As her father nears the end of his life, filmm...  \n",
       "1  After crossing paths at a party, a Cape Town t...  \n",
       "2  To protect his family from a powerful drug lor...  \n",
       "3  Feuds, flirtations and toilet talk go down amo...  \n",
       "4  In a city of coaching centers known to train I...  "
      ]
     },
     "execution_count": 15,
     "metadata": {},
     "output_type": "execute_result"
    }
   ],
   "source": [
    "df.head()"
   ]
  },
  {
   "cell_type": "markdown",
   "id": "2554eec6",
   "metadata": {},
   "source": [
    "### Топ-10 стран, на счету которых наибольшее количество отснятого материала\n",
    "Посмотрим на список из топ-10 стран с самым больший количеством фильмов/сериалов. Для наглядности проиллюстрируем топ графиком, а также узнаем процентное соотношение."
   ]
  },
  {
   "cell_type": "code",
   "execution_count": 16,
   "id": "d9f438a5",
   "metadata": {},
   "outputs": [
    {
     "data": {
      "text/plain": [
       "Index(['United States', 'India', 'United Kingdom', 'Japan', 'South Korea',\n",
       "       'Canada', 'Spain', 'France', 'Mexico', 'Egypt'],\n",
       "      dtype='object')"
      ]
     },
     "execution_count": 16,
     "metadata": {},
     "output_type": "execute_result"
    }
   ],
   "source": [
    "top_10 = df['country'].value_counts().index[0:10]\n",
    "top_10"
   ]
  },
  {
   "cell_type": "code",
   "execution_count": 17,
   "id": "871cee28",
   "metadata": {},
   "outputs": [
    {
     "data": {
      "image/png": "[encoded data removed]",
      "text/plain": [
       "<Figure size 1440x720 with 1 Axes>"
      ]
     },
     "metadata": {
      "needs_background": "light"
     },
     "output_type": "display_data"
    }
   ],
   "source": [
    "plt.figure(figsize=(20, 10))\n",
    "sns.countplot(data=df, x=df['country'], order=top_10)\n",
    "plt.title('Топ-10 стран по количеству фильмов/сериалов') ; "
   ]
  },
  {
   "cell_type": "code",
   "execution_count": 18,
   "id": "02c29185",
   "metadata": {},
   "outputs": [
    {
     "name": "stdout",
     "output_type": "stream",
     "text": [
      "usa_percentage = 31.99727489496991 %\n",
      "india_percentage = 11.036675371863291 %\n",
      "uk_percentage = 4.757579198364937 %\n"
     ]
    }
   ],
   "source": [
    "usa_percentage = 100.0 * len(df[df['country'] == 'United States']) / len(df)\n",
    "print(\"usa_percentage =\", usa_percentage, '%')\n",
    "india_percentage = 100.0 * len(df[df['country'] == 'India']) / len(df)\n",
    "print(\"india_percentage =\", india_percentage, '%')\n",
    "uk_percentage = 100.0 * len(df[df['country'] == 'United Kingdom']) / len(df)\n",
    "print(\"uk_percentage =\", uk_percentage, '%')"
   ]
  },
  {
   "cell_type": "markdown",
   "id": "0eaec637",
   "metadata": {},
   "source": [
    "Как мы видим, больше всего для стримингово сервиса снято в США (~32% всего мирового материала),что закономерно, учитывая происхождение Нетфликс. Довольно интересно, что на втором месте идет Индия c 11% всего контента (в дальнейшем мы еще не раз увидим эту страну в результатах анализ, что не случайно, ведь Индия - второй по величине рынок для Нетфлткс). Третье место у Великобритании, хотя отрыв от Индии уже довольно велик, на соединенное королевство приходится всего ~5% от обшей доли"
   ]
  },
  {
   "cell_type": "markdown",
   "id": "b15d03cc",
   "metadata": {},
   "source": [
    "**Также интересно посмотреть зависимость количества добавляемого на Netflix контента от времени:**\n",
    "Мы обратим внимание сразу и на фильмы, и на тв-шоу, чтобы проследить, в какие годы какой вид контента был популярнее"
   ]
  },
  {
   "cell_type": "code",
   "execution_count": 19,
   "id": "b14b23ba",
   "metadata": {},
   "outputs": [
    {
     "data": {
      "text/plain": [
       "<AxesSubplot:xlabel='release_year', ylabel='count'>"
      ]
     },
     "execution_count": 19,
     "metadata": {},
     "output_type": "execute_result"
    },
    {
     "data": {
      "image/png": "[encoded data removed]",
      "text/plain": [
       "<Figure size 1440x720 with 1 Axes>"
      ]
     },
     "metadata": {
      "needs_background": "light"
     },
     "output_type": "display_data"
    }
   ],
   "source": [
    "plt.figure(figsize=(20, 10))\n",
    "sns.countplot(x='release_year', data=df, hue='type')"
   ]
  },
  {
   "cell_type": "markdown",
   "id": "5b5ec4d1",
   "metadata": {},
   "source": [
    "Однако как и на любом другом стриминговом сервисе на Нетфликс присутствуют не только новинки, поэтому сейчас наш график выглядит не совсем репрезентативно. Сузим выборку и посмотрим, как часто выходили фильмы в последние 20 лет (выборка 2000-2021):"
   ]
  },
  {
   "cell_type": "code",
   "execution_count": 20,
   "id": "163cfcf1",
   "metadata": {},
   "outputs": [
    {
     "data": {
      "text/plain": [
       "<AxesSubplot:xlabel='release_year', ylabel='count'>"
      ]
     },
     "execution_count": 20,
     "metadata": {},
     "output_type": "execute_result"
    },
    {
     "data": {
      "image/png": "[encoded data removed]",
      "text/plain": [
       "<Figure size 1440x720 with 1 Axes>"
      ]
     },
     "metadata": {
      "needs_background": "light"
     },
     "output_type": "display_data"
    }
   ],
   "source": [
    "df_2000 = df[df[\"release_year\"] >= 2000]\n",
    "\n",
    "plt.figure(figsize=(20, 10))\n",
    "sns.countplot(x='release_year', data=df_2000, hue='type')"
   ]
  },
  {
   "cell_type": "markdown",
   "id": "bc56032e",
   "metadata": {},
   "source": [
    "**Вывод:** Видно, что количество выпускаемых фильмов в среднем увеличивалось, достигая своего пика в 2017-2018 годах, после чего начало заметное снижение. С ТВ-шоу ситуация похожая - их количество росло до 2020-го года, снизившись в 2021-ом."
   ]
  },
  {
   "cell_type": "markdown",
   "id": "b02ae64e",
   "metadata": {},
   "source": [
    "### Чего больше, фильмов или ТВ-шоу?\n",
    "\n",
    "График выше хорошо показывает, что количество фильмов заметно превышает число сериалов. Интересно заметить, что 2021 - первый год, в котором сериалов вышло больше, чем фильмов.\n",
    "\n",
    "Если говорить более точно в цифрах:"
   ]
  },
  {
   "cell_type": "code",
   "execution_count": 21,
   "id": "50e1f2b1",
   "metadata": {},
   "outputs": [
    {
     "data": {
      "text/plain": [
       "Movie      6131\n",
       "TV Show    2676\n",
       "Name: type, dtype: int64"
      ]
     },
     "execution_count": 21,
     "metadata": {},
     "output_type": "execute_result"
    }
   ],
   "source": [
    "df['type'].value_counts()"
   ]
  },
  {
   "cell_type": "markdown",
   "id": "e20a4f04",
   "metadata": {},
   "source": [
    "Всего фильмов было выпущено 6131, а сериалов 2676. Но чтобы было интереснее, посмотрим процентное соотношение и  изобразим эти данные в виде пирога:"
   ]
  },
  {
   "cell_type": "code",
   "execution_count": 22,
   "id": "6e4537cc",
   "metadata": {},
   "outputs": [
    {
     "data": {
      "image/png": "[encoded data removed]",
      "text/plain": [
       "<Figure size 720x576 with 1 Axes>"
      ]
     },
     "metadata": {},
     "output_type": "display_data"
    }
   ],
   "source": [
    "plt.figure(figsize=(10,8))\n",
    "\n",
    "plt.pie(df['type'].value_counts(),\n",
    "        labels=df['type'].value_counts().index,\n",
    "        autopct=\"%.2f\",\n",
    "        textprops={'fontsize': 18,}, \n",
    "        colors=['lightblue','orange' ] )\n",
    "plt.legend()\n",
    "plt.show()"
   ]
  },
  {
   "cell_type": "markdown",
   "id": "b4edf870",
   "metadata": {},
   "source": [
    "**Вывод:** фильмов заметно больше, чем ТВ-шоу (более чем в два раза)."
   ]
  },
  {
   "cell_type": "markdown",
   "id": "b25828d1",
   "metadata": {},
   "source": [
    "### Какова средняя продолжительность фильмов? \n",
    "В данном разделе мы рассмотрим среднюю продолжительность фильмов, узнаем, какой фильм самый короткий и какова наибольшая продолдительность фильма, выпущенного на Нетфликс"
   ]
  },
  {
   "cell_type": "code",
   "execution_count": 23,
   "id": "79a5ebc9",
   "metadata": {},
   "outputs": [
    {
     "name": "stdout",
     "output_type": "stream",
     "text": [
      "mean duration = 99.57718668407311\n"
     ]
    }
   ],
   "source": [
    "import warnings\n",
    "warnings.filterwarnings(\"ignore\")\n",
    "\n",
    "df_movies = df[df['type'] != 'TV Show']\n",
    "df_movies['duration'] = df_movies['duration'].str.replace(' min', '')\n",
    "df_movies['duration'] = df_movies['duration'].fillna(-1)\n",
    "df_movies['duration'] = df_movies['duration'].astype(int)\n",
    "df_movies = df_movies[df_movies['duration'] != -1]\n",
    "\n",
    "mean_duration = df_movies['duration'].mean()\n",
    "print(\"mean duration =\", mean_duration)"
   ]
  },
  {
   "cell_type": "code",
   "execution_count": 24,
   "id": "8e35ca4a",
   "metadata": {},
   "outputs": [
    {
     "data": {
      "image/png": "[encoded data removed]",
      "text/plain": [
       "<Figure size 1440x720 with 1 Axes>"
      ]
     },
     "metadata": {
      "needs_background": "light"
     },
     "output_type": "display_data"
    }
   ],
   "source": [
    "df_movies = df[df['type'] != 'TV Show']\n",
    "df_movies['duration'] = df_movies['duration'].str.replace(' min', '')\n",
    "df_movies['duration'] = df_movies['duration'].fillna(-1)\n",
    "df_movies['duration'] = df_movies['duration'].astype(int)\n",
    "df_movies = df_movies[df_movies['duration'] != -1]\n",
    "plt.figure(figsize=(20, 10))\n",
    "sns.histplot(data=df_movies['duration'], kde=True)\n",
    "\n",
    "warnings.filterwarnings(\"default\")"
   ]
  },
  {
   "cell_type": "code",
   "execution_count": 25,
   "id": "9648e6b3",
   "metadata": {},
   "outputs": [
    {
     "name": "stdout",
     "output_type": "stream",
     "text": [
      "min = 3 max = 312  diff = 309\n",
      "Interquartile range = 27.0\n"
     ]
    }
   ],
   "source": [
    "min_duration = min(df_movies['duration'])\n",
    "max_duration = max(df_movies['duration'])\n",
    "inter = df_movies['duration'].quantile(0.75) - df_movies['duration'].quantile(0.25)\n",
    "\n",
    "print(\"min =\", min_duration, \"max =\", max_duration, \" diff =\", max_duration - min_duration)\n",
    "print(\"Interquartile range =\", inter)"
   ]
  },
  {
   "cell_type": "markdown",
   "id": "c442b997",
   "metadata": {},
   "source": [
    "**Вывод:** Можно видеть, что продолжительность большинства фильтров сосредоточена в районе 90-100 минут. Хотя некоторые фильмы бывают сильно короче (от 3 минут) и продолжительнее (до 312 минут). Средняя продолжительность составляет примерно 100 минут ($\\approx 99,5$ если говорить точнее).\n",
    "\n",
    "Интерквартильный размах равен 27."
   ]
  },
  {
   "cell_type": "markdown",
   "id": "f69a91be",
   "metadata": {},
   "source": [
    "### Какие актеры чаще всего встречаются в фильмах?"
   ]
  },
  {
   "cell_type": "markdown",
   "id": "ecbabab5",
   "metadata": {},
   "source": [
    "Проанализируем, какие актеры чаще всего встречаются в нашем датасете:"
   ]
  },
  {
   "cell_type": "code",
   "execution_count": 26,
   "id": "3dd8c186",
   "metadata": {},
   "outputs": [
    {
     "name": "stdout",
     "output_type": "stream",
     "text": [
      "Anupam Kher 43 India\n",
      "Shah Rukh Khan 35 India\n",
      "Julie Tejwani 33 India\n",
      "Naseeruddin Shah 32 India\n",
      "Takahiro Sakurai 32 Japan\n",
      "Rupa Bhimani 31 India\n",
      "Akshay Kumar 30 India\n",
      "Om Puri 30 India\n",
      "Yuki Kaji 29 Japan\n",
      "Amitabh Bachchan 28 India\n",
      "Paresh Rawal 28 India\n",
      "Boman Irani 27 India\n",
      "Rajesh Kava 26 India\n",
      "Vincent Tong 26 Hong Kong, Canada, United States\n",
      "Andrea Libman 25 United States, Canada\n",
      "Kareena Kapoor 25 India\n",
      "Samuel L. Jackson 24 United States\n",
      "John Cleese 24 Spain, United Kingdom, United States\n",
      "Jigna Bhardwaj 23 India\n",
      "Fred Tatasciore 23 United States\n",
      "Tara Strong 23 United States\n",
      "Daisuke Ono 22 Japan\n",
      "Junichi Suwabe 21 Japan\n",
      "Ajay Devgn 21 India\n",
      "Ashleigh Ball 21 United States, Canada\n",
      "Kay Kay Menon 21 India\n",
      "Nicolas Cage 21 Spain\n",
      "Nawazuddin Siddiqui 21 India\n",
      "Adam Sandler 20 United States\n",
      "David Attenborough 20 United States\n",
      "Salman Khan 20 India\n",
      "David Spade 19 United States\n",
      "Yuichi Nakamura 19 Japan\n",
      "Erin Fitzgerald 19 United States\n",
      "Mamoru Miyano 19 Japan\n",
      "Morgan Freeman 19 Germany, United States\n",
      "James Franco 19 United States\n",
      "Seth Rogen 19 United States\n",
      "Ai Kayano 19 Japan\n",
      "Fred Armisen 19 United States, Germany\n",
      "Gulshan Grover 19 India\n",
      "Vatsal Dubey 18 India\n",
      "Rajesh Sharma 18 India\n",
      "Fortune Feimster 18 United States\n",
      "Diana Kaarina 18 United States\n",
      "Yashpal Sharma 18 India, United Kingdom\n",
      "Kana Hanazawa 18 Japan\n",
      "Laura Bailey 18 United States\n",
      "Anil Kapoor 18 India\n",
      "Debi Derryberry 18 Canada\n",
      "Bruce Willis 17 United States, United Kingdom, Canada\n",
      "Molly Shannon 17 United States\n",
      "Rajpal Yadav 17 India\n",
      "Brian Drummond 17 United States, Canada\n",
      "Michela Luci 17 United States, Canada\n",
      "Alessandro Juliani 17 Canada\n",
      "Danny Trejo 17 United States\n",
      "Priyanka Chopra 17 India\n",
      "Asrani 17 India\n",
      "Jackie Shroff 17 India, United States\n",
      "Saif Ali Khan 17 India\n",
      "Kate Higgins 17 South Korea, Canada, United States, China\n",
      "Maya Rudolph 16 United States\n",
      "Blossom Chukwujekwu 16 Nigeria\n",
      "Miyuki Sawashiro 16 Japan\n",
      "Jun Fukuyama 16 Japan\n",
      "Kari Wahlgren 16 United States, Singapore\n",
      "Tinnu Anand 16 India\n",
      "Yoshimasa Hosoya 16 Japan\n",
      "Hiroshi Kamiya 16 Japan\n",
      "Mike Epps 16 United States, Canada\n",
      "Laurence Fishburne 16 United States\n",
      "Sanjay Mishra 16 India\n",
      "Manoj Joshi 16 India\n",
      "Alfred Molina 16 United States\n",
      "Vijay Raaz 16 India\n",
      "Kristen Stewart 16 United States\n",
      "Sam Vincent 16 United States\n",
      "Manoj Bajpayee 16 India\n",
      "Tomokazu Sugita 16 Japan\n",
      "Aamir Khan 16 India\n",
      "Hassan Hosny 16 Egypt\n",
      "Robb Wells 16 Canada\n",
      "Michael Palin 16 United Kingdom, France, Belgium, Canada, United States\n",
      "Amrish Puri 16 India\n",
      "Chris Rock 15 United States\n",
      "Grey Griffin 15 United States\n",
      "Richard Mofe-Damijo 15 Nigeria\n",
      "Sonal Kaushal 15 India\n",
      "Pankaj Tripathi 15 India\n",
      "Willem Dafoe 15 United States, Mexico\n",
      "Sanjay Dutt 15 India\n",
      "Radhika Apte 15 India\n",
      "Takehito Koyasu 15 Japan\n",
      "Kathleen Barr 15 United States, Canada\n",
      "Michael Peña 15 United States\n",
      "Toyin Abraham 15 Nigeria\n",
      "Keith David 15 United States\n",
      "Erin Mathews 15 Canada\n",
      "Ben Kingsley 15 United States\n",
      "Sean Astin 15 United States\n",
      "Antonio Banderas 15 United States, Russia\n",
      "Adil Hussain 15 India\n",
      "John Paul Tremblay 15 Canada\n",
      "Eric Idle 15 United Kingdom\n",
      "Mousam 14 India\n",
      "Swapnil 14 India\n",
      "Bimbo Manuel 14 Nigeria\n",
      "Kazuhiko Inoue 14 Japan\n",
      "Yoshitsugu Matsuoka 14 Japan\n",
      "Woody Harrelson 14 United States\n",
      "Dee Bradley Baker 14 United States, Singapore\n",
      "Pierce Brosnan 14 United States\n",
      "Kenjiro Tsuda 14 Japan\n",
      "Kulbhushan Kharbanda 14 India\n",
      "Tony Hale 14 United States, Switzerland\n",
      "Shakti Kapoor 14 India\n",
      "Rajkummar Rao 14 India\n",
      "Rosario Dawson 14 United States\n",
      "Shaffy Bello 14 Nigeria\n",
      "Yoko Hikasa 14 Japan\n",
      "Ramsey Nouah 14 South Africa\n",
      "Demet Akbağ 14 Turkey\n",
      "Kevin Michael Richardson 14 United States\n",
      "Natsuki Hanae 14 Japan\n",
      "Tabitha St. Germain 14 United States, Canada\n",
      "Helen Mirren 14 Australia, United States\n",
      "Johnny Depp 14 United States, France, Italy, United Kingdom\n",
      "Liam Neeson 14 United States, Canada\n",
      "Guy Pearce 14 United States\n",
      "John Travolta 14 United States\n",
      "Ian James Corlett 14 Denmark, Singapore, Canada, United States\n",
      "John Abraham 14 India\n",
      "Irrfan Khan 14 Bangladesh\n",
      "Pavan Malhotra 14 India\n",
      "Sachin Khedekar 14 India\n",
      "Katrina Kaif 14 India\n",
      "Sharat Saxena 14 India\n",
      "Ranvir Shorey 14 India\n",
      "Samuel West 14 United Kingdom, France\n",
      "Terry Jones 14 United Kingdom\n",
      "James Marsden 13 United States\n",
      "Nassar 13 India\n",
      "Dennis Quaid 13 United States\n",
      "Ryan Reynolds 13 South Africa, United States, Japan\n",
      "Brendan Gleeson 13 South Africa, United States, Japan\n",
      "Fumiko Orikasa 13 Japan\n",
      "Saori Hayami 13 Japan\n",
      "Tina Mba 13 Nigeria\n",
      "Stanley Tucci 13 United Kingdom, United States\n",
      "Vipin Sharma 13 India\n",
      "David Koechner 13 United States\n",
      "Joan Cusack 13 United States, Germany\n",
      "Mithun Chakraborty 13 India\n",
      "Rishi Kapoor 13 India\n",
      "Mohnish Bahl 13 India\n",
      "Mahesh Manjrekar 13 India\n",
      "Abhishek Bachchan 13 India\n",
      "Amy Adams 13 United States, Canada\n",
      "John C. Reilly 13 United States\n",
      "Maaya Sakamoto 13 Japan\n",
      "Rob Riggle 13 United States\n",
      "Omoni Oboli 13 Nigeria\n",
      "Cassandra Morris 13 South Korea\n",
      "Will Ferrell 13 United States\n",
      "Laura Linney 13 United States\n",
      "Jackie Chan 13 United States, China\n",
      "David Cross 13 United States, China\n",
      "Liev Schreiber 13 United States, Germany, Canada\n",
      "Ray Liotta 13 United States\n",
      "Kevin Hart 13 United States\n",
      "Ricky Gervais 13 United States\n",
      "Nana Patekar 13 India\n",
      "Rajit Kapoor 13 India\n",
      "Ron Perlman 13 United States\n",
      "Cory Doran 13 Canada\n",
      "Tiffany Haddish 13 United States\n",
      "Julie Lemieux 13 Canada\n",
      "Gerard Butler 13 United States\n",
      "Seema Biswas 13 Canada, United States\n",
      "Jim Broadbent 13 Ireland, Luxembourg, Belgium\n",
      "Shahid Kapoor 13 India\n",
      "Jamie Watson 13 Canada\n",
      "Eric Peterson 13 Canada\n",
      "Ahmed Helmy 13 Egypt\n",
      "Cindy Robinson 13 Canada\n",
      "Graham Chapman 13 United Kingdom\n",
      "Terry Gilliam 13 United Kingdom\n",
      "Ken Jeong 12 United States\n",
      "Loretta Devine 12 United States\n",
      "Salma Hayek 12 United States\n",
      "Harrison Ford 12 United States, India, France\n",
      "Tom Kenny 12 United States\n",
      "Robert Patrick 12 South Africa, United States, Japan\n",
      "Houko Kuwashima 12 Japan\n",
      "Junko Takeuchi 12 Japan\n",
      "Rikiya Koyama 12 Japan\n",
      "Satoshi Hino 12 Japan\n",
      "Katsuyuki Konishi 12 Japan\n",
      "Glenn Close 12 United States\n",
      "Christina Hendricks 12 United States\n",
      "America Young 12 United States\n",
      "Martin Lawrence 12 United States\n",
      "Kazuya Nakai 12 Japan\n",
      "William H. Macy 12 United States\n",
      "Robert De Niro 12 Italy, United States\n",
      "Jack Black 12 United States, Germany\n",
      "Eddie Murphy 12 United States\n",
      "John Malkovich 12 United States\n",
      "Vidya Balan 12 India\n",
      "Rie Kugimiya 12 Japan\n",
      "Sayaka Ohara 12 Japan\n",
      "Anton Yelchin 12 United States\n",
      "Andy Samberg 12 United States, Canada\n",
      "Danny McBride 12 United States\n",
      "Justin Long 12 Spain, United Kingdom, United States\n",
      "Jacki Weaver 12 United Kingdom, United States\n",
      "Halle Berry 12 United States\n",
      "John Leguizamo 12 United States\n",
      "Steven Yeun 12 United States\n",
      "Naomi Watts 12 United States\n",
      "Robert Pattinson 12 United States\n",
      "Nobuhiko Okamoto 12 Japan\n",
      "Paul Giamatti 12 Hong Kong, Canada, United States\n",
      "London Hughes 12 United States\n",
      "Judy Greer 12 United States\n",
      "Will Smith 12 United States\n",
      "Bruce Greenwood 12 United States, Germany\n",
      "George Clooney 12 United States, United Kingdom\n",
      "Ben Mendelsohn 12 United States\n",
      "Raghuvir Yadav 12 India, United Kingdom\n",
      "John Dunsworth 12 United States, Canada\n",
      "Steve Buscemi 12 United States\n",
      "Elyse Maloway 12 Canada\n",
      "Britt McKillip 12 United States\n",
      "Susan Sarandon 12 United States\n",
      "Chris Parnell 12 United States\n",
      "Dermot Mulroney 12 United States\n",
      "John Michael Higgins 12 United States\n",
      "Johnny Yong Bosch 12 Japan\n",
      "Saurabh Shukla 12 India\n",
      "Minako Kotobuki 12 Japan\n",
      "Kathryn Hahn 12 United States\n",
      "Adam Scott 12 United States\n",
      "Patton Oswalt 12 United States\n",
      "Stephen Fry 12 United States, United Kingdom\n",
      "Jeff Dunham 12 Canada\n",
      "Paul Dobson 12 Canada\n",
      "Jimmy Shergill 12 India\n",
      "Cate Blanchett 12 United States\n",
      "Stephanie Sheh 12 Netherlands\n",
      "Anna Claire Bartlam 12 Canada\n",
      "Nick Swardson 12 United States\n",
      "Juhi Chawla 12 India\n",
      "Jason Schwartzman 12 United States\n",
      "Javed Sheikh 12 Pakistan\n",
      "Jane Krakowski 11 United States, Canada\n",
      "Kevin James 11 United States\n",
      "Rob Schneider 11 United States\n",
      "Gary Oldman 11 United States, India, France\n",
      "Amber Heard 11 United States, India, France\n",
      "Denzel Washington 11 South Africa, United States, Japan\n",
      "Sam Shepard 11 South Africa, United States, Japan\n",
      "Toshiyuki Morikawa 11 Japan\n",
      "Megumi Han 11 Japan\n",
      "Sabina Malik 11 India\n",
      "Keith Wickham 11 United Kingdom\n",
      "Johny Lever 11 India\n",
      "Gary Cole 11 United States\n",
      "Sylvester Stallone 11 United States, Italy, France, Japan\n",
      "Ryohei Kimura 11 Japan\n",
      "James Cromwell 11 United States, China, Hong Kong\n",
      "Michael Madsen 11 United States\n",
      "Ben Stiller 11 United States\n",
      "Cedric the Entertainer 11 United States\n",
      "Tusshar Kapoor 11 India\n",
      "Arjun Rampal 11 India\n",
      "Sunil Shetty 11 India\n",
      "Divya Dutta 11 India\n",
      "Manisha Koirala 11 India\n",
      "Elizabeth Banks 11 United States\n",
      "Kaito Ishikawa 11 Japan\n",
      "Harvey Keitel 11 New Zealand, Australia, France, United States\n",
      "Alec Baldwin 11 United States\n",
      "Tracy Morgan 11 United States\n",
      "Julianne Moore 11 United States\n",
      "Anthony Mackie 11 United States\n",
      "Daisuke Namikawa 11 Japan\n",
      "Kathy Bates 11 United States\n",
      "Julia Roberts 11 United States\n",
      "Mark Hamill 11 United States\n",
      "Tony Todd 11 United States\n",
      "Koichi Yamadera 11 Japan\n",
      "Emile Hirsch 11 United States, Russia\n",
      "Frank Grillo 11 United States\n",
      "Peter Facinelli 11 United States\n",
      "Carla Gugino 11 United States\n",
      "Will Forte 11 United States\n",
      "Nicole Oliver 11 United States, Canada\n",
      "Don Cheadle 11 United States\n",
      "Lucy Liu 11 United States, Germany\n",
      "Jay Baruchel 11 United States\n",
      "Aoi Yuki 11 Japan\n",
      "Kenta Miyake 11 Japan\n",
      "Stephen Lang 11 United States\n",
      "Anthony Anderson 11 United States\n",
      "Michael Jai White 11 United States\n",
      "Nicole Anthony 11 Canada\n",
      "Bobby Cannavale 11 United States\n",
      "Jigna Bharadhwaj 11 India\n",
      "Matt Damon 11 United Kingdom, France, Spain, United States\n",
      "Jessica Chastain 11 United States\n",
      "Keanu Reeves 11 United States\n",
      "Mario Casas 11 Spain\n",
      "Meryl Streep 11 United States\n",
      "Konkona Sen Sharma 11 India\n",
      "Paul Rudd 11 United States\n",
      "Christopher Lee 11 China, Taiwan\n",
      "Steve Zahn 11 United States, Canada\n",
      "Danny Glover 11 United States\n",
      "Sean Bean 11 Japan, United States\n",
      "Steve Coogan 11 United Kingdom, United States, France\n",
      "Viola Davis 11 United Kingdom, United States\n",
      "Kathryn Bernardo 11 Philippines\n",
      "Rani Mukerji 11 India\n",
      "Michael Shannon 11 United States\n",
      "Keegan-Michael Key 11 United States\n",
      "Terry Crews 11 United States\n",
      "Satish Shah 11 India\n",
      "Dalip Tahil 11 India\n",
      "Abhay Deol 11 India\n",
      "B.N. Sharma 11 India\n",
      "Patrick Warburton 11 United States\n",
      "Alok Nath 11 India\n",
      "Alison Brie 11 United States\n",
      "Mike Smith 11 Canada\n",
      "Sathyaraj 11 India\n",
      "Tay Ping Hui 11 China\n",
      "Chris O'Dowd 10 United States\n",
      "Maria Bello 10 United States\n",
      "Yuri Lowenthal 10 United States\n",
      "Vera Farmiga 10 South Africa, United States, Japan\n",
      "Kappei Yamaguchi 10 Japan\n",
      "Chie Nakamura 10 Japan\n",
      "Kohsuke Toriumi 10 Japan\n",
      "Yukari Tamura 10 Japan\n",
      "Romi Park 10 Japan\n",
      "Teresa Gallagher 10 United Kingdom\n",
      "Adesua Etomi 10 Nigeria\n",
      "Jide Kosoko 10 Nigeria\n",
      "Hiroki Yasumoto 10 Japan\n",
      "Will Arnett 10 United Kingdom, United States\n",
      "Alan Cumming 10 United Kingdom, United States\n",
      "Segun Arinze 10 Nigeria\n",
      "David Harbour 10 United States\n",
      "Nicole Kidman 10 United States, Italy, Romania, United Kingdom\n",
      "Andy Richter 10 United States\n",
      "Janeane Garofalo 10 United States\n",
      "Greg Kinnear 10 United States\n",
      "Kurt Russell 10 United States\n",
      "Mike Vogel 10 United States\n",
      "Jada Pinkett Smith 10 United States\n",
      "Neha Dhupia 10 India\n",
      "Vivek Oberoi 10 India\n",
      "Emraan Hashmi 10 India\n",
      "Mikako Komatsu 10 Japan\n",
      "David Oyelowo 10 United States\n",
      "Beverly Naya 10 Nigeria\n",
      "Prakash Raj 10 India\n",
      "Sam Neill 10 New Zealand, Australia, France, United States\n",
      "Zoe Saldana 10 Canada, United States\n",
      "Mukesh Tiwari 10 India\n",
      "Anthony Hopkins 10 United States, United Kingdom\n",
      "Neil Patrick Harris 10 United States, Canada\n",
      "Reina Ueda 10 Japan\n",
      "Luis Guzmán 10 United States\n",
      "Shannon Chan-Kent 10 United States, Canada\n",
      "Kevin Corrigan 10 United States\n",
      "Idris Elba 10 United States, France\n",
      "Jennifer Garner 10 United States\n",
      "Topher Grace 10 United States\n",
      "Taylor Lautner 10 United States\n",
      "Luis Tosar 10 Spain\n",
      "Manoj Pahwa 10 India\n",
      "Supriya Pathak 10 India\n",
      "James Remar 10 United States\n",
      "Lena Headey 10 Japan, United States\n",
      "Bayoumi Fouad 10 Egypt\n",
      "Mohammed Tharwat 10 Egypt\n",
      "Nick Offerman 10 United States\n",
      "Colin Farrell 10 United States\n",
      "Anna Kendrick 10 United States\n",
      "John Goodman 10 Hong Kong, Canada, United States\n",
      "Lake Bell 10 United States\n",
      "Joke Silva 10 Nigeria\n",
      "Kate Walsh 10 United States\n",
      "Cameron Diaz 10 United States, Germany\n",
      "Luke Wilson 10 United States, Germany\n",
      "Louis Koo 10 Taiwan\n",
      "Dustin Hoffman 10 United States, China\n",
      "Jon Lovitz 10 United States\n",
      "T.J. Miller 10 United States\n",
      "Jane Lynch 10 United States\n",
      "Cezmi Baskın 10 Turkey\n",
      "Rebecca Shoichet 10 United States\n",
      "Ali Nuhu 10 Nigeria\n",
      "Kim Coates 10 United States\n",
      "Kazuyuki Okitsu 10 Japan\n",
      "Sonali Kulkarni 10 India\n",
      "Terrence Howard 10 United States\n",
      "Ewan McGregor 10 United States\n",
      "Tim Blake Nelson 10 United States\n",
      "Zach Galifianakis 10 United States\n",
      "Jason Isaacs 10 United Kingdom, France, Spain, United States\n",
      "Benedict Cumberbatch 10 United States\n",
      "Manav Kaul 10 India\n",
      "Natalie Dormer 10 United Kingdom, Germany, United States\n",
      "M・A・O 10 Japan\n",
      "Jonah Hill 10 United States\n",
      "Patrick Wilson 10 United States, Canada\n",
      "Paul Schrier 10 United States, Japan\n",
      "Nat Faxon 10 United States\n",
      "Rahul Bose 10 India\n",
      "Amy Poehler 10 United States\n",
      "Alia Shawkat 10 United States\n",
      "Reza Rahadian 10 Indonesia\n",
      "John Carroll Lynch 10 United States\n",
      "Kalki Koechlin 10 India\n",
      "Oprah Winfrey 10 United States\n",
      "Eddie Marsan 10 Ireland, France, Iceland, United States, Mexico, Belgium, United Kingdom, Hong Kong\n",
      "Russell Peters 10 United States\n",
      "Zakir Hussain 10 India\n",
      "Raj Babbar 10 India\n",
      "Nolan North 10 United States\n",
      "Amrita Rao 10 India\n",
      "Brijendra Kala 10 India\n",
      "Arshad Warsi 10 India\n",
      "Shreyas Talpade 10 India\n",
      "Helena Bonham Carter 10 United Kingdom\n",
      "Karamjit Anmol 10 India\n",
      "Nobunaga Shimazaki 10 Japan\n",
      "Preity Zinta 10 India\n",
      "Jeff Bennett 10 United States\n",
      "Cam Clarke 10 Canada\n",
      "Donnie Yen 10 Hong Kong, China\n",
      "Sonam Kapoor 10 India\n",
      "Prem Chopra 10 India\n",
      "Shraddha Kapoor 10 India\n",
      "Hrithik Roshan 10 India\n",
      "Christopher Meloni 10 United States\n",
      "Bruce Dern 10 United States, Canada\n",
      "Grey DeLisle 10 United States\n",
      "Atul Kulkarni 10 India\n",
      "Ramya Krishnan 10 India\n",
      "Sardar Sohi 10 India\n",
      "Tamannaah Bhatia 10 India\n",
      "Johnny Lever 10 India\n",
      "Giancarlo Esposito 9 United States\n",
      "Aishwarya Rai Bachchan 9 India\n",
      "J.K. Simmons 9 United States\n",
      "Kunal Kapoor 9 India\n",
      "Ben Diskin 9 United States\n",
      "Satsuki Yukino 9 Japan\n",
      "Akio Otsuka 9 Japan\n",
      "Kikuko Inoue 9 Japan\n",
      "Tetsuya Kakihara 9 Japan\n",
      "Yuhko Kaida 9 Japan\n",
      "Jack Whitehall 9 United Kingdom\n",
      "Sola Sobowale 9 Nigeria\n",
      "Koji Yusa 9 Japan\n",
      "Mary Elizabeth Winstead 9 United States\n",
      "Alexx Ekubo 9 Nigeria\n",
      "Sarah Natochenny 9 Italy\n",
      "Cherami Leigh 9 Japan\n",
      "Gabriel Iglesias 9 United Kingdom, United States\n",
      "Rob Rackstraw 9 United Kingdom\n",
      "Jennifer Jason Leigh 9 United Kingdom, Australia, France, United States\n",
      "Wanda Sykes 9 United States\n",
      "Jennifer Coolidge 9 United States, Canada\n",
      "Terence Stamp 9 United States\n",
      "James Hong 9 United States\n",
      "Amanda Seyfried 9 United States\n",
      "Richard Jenkins 9 United States\n",
      "Jay O. Sanders 9 United States\n",
      "Shawn Yue 9 China, Hong Kong\n",
      "Martin Short 9 United States\n",
      "Joel McHale 9 United States, Canada\n",
      "Diedrich Bader 9 United States, Canada\n",
      "Rajendranath Zutshi 9 India\n",
      "Kangana Ranaut 9 India\n",
      "Randeep Hooda 9 India\n",
      "Sandra Oh 9 United States\n",
      "Gillian Jacobs 9 United States\n",
      "Bill Burr 9 United States\n",
      "Erica Lindbeck 9 United States, Japan\n",
      "Ashley Greene 9 United States\n",
      "Scott Adkins 9 Bulgaria, United States\n",
      "Leonardo DiCaprio 9 United States, Canada\n",
      "Bill Hader 9 United States, Canada\n",
      "Thomas Jane 9 United States, Mexico\n",
      "Jessica Alba 9 United States, Canada\n",
      "Joseph Gordon-Levitt 9 United States, United Kingdom\n",
      "Craig Robinson 9 United States\n",
      "Bruce McGill 9 United States\n",
      "George Lopez 9 United States\n",
      "Keith Silverstein 9 United States\n",
      "Walton Goggins 9 United States\n",
      "Kelsey Grammer 9 United States\n",
      "Dakota Fanning 9 United States\n",
      "Michael Sheen 9 United States\n",
      "Cam Gigandet 9 United States\n",
      "Michelle Yeoh 9 United States, China\n",
      "Ireti Doyle 9 Nigeria\n",
      "Bill Murray 9 United States\n",
      "Deepak Dobriyal 9 India\n",
      "Cathy Weseluck 9 United States, Canada\n",
      "Maudy Koesnaedi 9 Indonesia\n",
      "Makrand Deshpande 9 India\n",
      "Mike Myers 9 United States\n",
      "Seth Green 9 United States\n",
      "Sam Rockwell 9 United States, Germany\n",
      "Lam Suet 9 Hong Kong, China\n",
      "Joe Pantoliano 9 United States\n",
      "Lacey Chabert 9 United States\n",
      "Clancy Brown 9 United States\n",
      "Judi Dench 9 United Kingdom\n",
      "Chris Pine 9 United States, Germany\n",
      "Zachary Quinto 9 United States, Germany\n",
      "Marc Maron 9 United States\n",
      "Sacha Baron Cohen 9 United States\n",
      "Michael Douglas 9 United States\n",
      "Colm Feore 9 United States, Germany, Canada\n",
      "Paul Bettany 9 United States, France, Italy, United Kingdom\n",
      "Vivica A. Fox 9 United States\n",
      "Scoot McNairy 9 United States\n",
      "Iliza Shlesinger 9 Canada, Hungary, United States\n",
      "Catherine O'Hara 9 Canada, United States\n",
      "Alfre Woodard 9 United States\n",
      "Kazuhiro Yamaji 9 Japan\n",
      "Steve Blum 9 Philippines, Singapore, Indonesia\n",
      "Rosamund Pike 9 United Kingdom, United States\n",
      "Forest Whitaker 9 United States\n",
      "Hugh Bonneville 9 United Kingdom\n",
      "Adam Pally 9 United States\n",
      "Mike Colter 9 United States\n",
      "Bassem Samra 9 Egypt\n",
      "Sam Worthington 9 United States\n",
      "Carlos Alazraqui 9 United States\n",
      "Salih Kalyon 9 Turkey\n",
      "Jennifer Ehle 9 United States\n",
      "Parker Posey 9 United States\n",
      "Gugu Mbatha-Raw 9 United States\n",
      "Toni Collette 9 Germany, United States\n",
      "Michael Stuhlbarg 9 France, United States, United Kingdom, Canada\n",
      "Vir Das 9 India\n",
      "Mahershala Ali 9 United States\n",
      "Patricia Clarkson 9 United States\n",
      "Rob Corddry 9 United States, Canada\n",
      "Javed Jaffrey 9 India\n",
      "Oscar Isaac 9 Ireland, Switzerland, United Kingdom, France, United States\n",
      "Sheeba Chaddha 9 India\n",
      "John DiMaggio 9 United States\n",
      "Jim Cummings 9 United States\n",
      "Manish Chaudhary 9 India\n",
      "Kevin Costner 9 United States\n",
      "Frank Langella 9 United States\n",
      "Rashida Jones 9 United States\n",
      "Mae Whitman 9 United States\n",
      "Daniel Padilla 9 Philippines\n",
      "Uma Thurman 9 United States\n",
      "Kiernan Shipka 9 United States\n",
      "Joross Gamboa 9 Philippines\n",
      "Jake Gyllenhaal 9 United States\n",
      "Common 9 United States\n",
      "Jenny Slate 9 United States\n",
      "Frank Welker 9 France, United States\n",
      "Andrew Bachelor 9 United States\n",
      "Aubrey Plaza 9 United States\n",
      "Govind Namdeo 9 India\n",
      "Farida Jalal 9 India\n",
      "Haruka Tomatsu 9 Japan\n",
      "Manu Rishi Chadha 9 India\n",
      "Kristen Bell 9 United States\n",
      "Gurpreet Guggi 9 India\n",
      "Eri Kitamura 9 Japan\n",
      "Nicolas Aqui 9 Canada\n",
      "Lotfy Labib 9 Egypt\n",
      "Jim Gaffigan 9 United States\n",
      "Stephen Tobolowsky 9 United States\n",
      "Pedro Casablanc 9 Spain, Germany\n",
      "Danny Denzongpa 9 India\n",
      "Murli Sharma 9 India\n",
      "Maria Bamford 9 United Kingdom, United States\n",
      "Shinichiro Miki 9 Japan\n",
      "Karisma Kapoor 9 India\n",
      "Vikram Gokhale 9 India\n",
      "Reema Lagoo 9 India\n",
      "Chloë Grace Moretz 9 United Kingdom, United States, France\n",
      "Salli Saffioti 9 United States\n",
      "Carmen Machi 9 Spain\n",
      "Christopher Plummer 9 United States\n",
      "Vanessa Hudgens 8 United States\n",
      "Sahajak Boonthanakit 8 United States, Thailand\n",
      "Bob Odenkirk 8 United States\n",
      "David Kaye 8 United States\n",
      "Roger Craig Smith 8 United States\n",
      "Snoop Dogg 8 United States\n",
      "Koji Tsujitani 8 Japan\n",
      "Kumiko Watanabe 8 Japan\n",
      "Mamiko Noto 8 Japan\n",
      "Tomokazu Seki 8 Japan\n",
      "Hiroyuki Yoshino 8 Japan\n",
      "Hiro Shimono 8 Japan\n",
      "Vijay Sethupathi 8 India\n",
      "Michiel Huisman 8 United States\n",
      "Ayo Makun 8 Nigeria\n",
      "Emma Roberts 8 Spain, United States\n",
      "Ludacris 8 United Kingdom, United States\n",
      "Natasha Lyonne 8 United Kingdom, United States\n",
      "Michelle Buteau 8 United States, United Kingdom\n",
      "Madhuri Dixit 8 India\n",
      "Himani Shivpuri 8 India\n",
      "Ben Whishaw 8 United Kingdom, Australia, France\n",
      "Josh Lucas 8 Germany, United States\n",
      "Kellan Lutz 8 United States, United Kingdom, Canada\n",
      "Mark Strong 8 United States\n",
      "Kensho Ono 8 Japan\n",
      "Tatsuhisa Suzuki 8 Japan\n",
      "Gael García Bernal 8 United States\n",
      "Sarah Jessica Parker 8 United States\n",
      "Chadwick Boseman 8 United States, China, Hong Kong\n",
      "Crispin Glover 8 United States, Canada\n",
      "Dylan McDermott 8 United States\n",
      "Kristin Scott Thomas 8 France\n",
      "Jon Bernthal 8 United Kingdom, Canada, United States\n",
      "Urmila Matondkar 8 India\n",
      "Nse Ikpe-Etim 8 Nigeria\n",
      "Riteish Deshmukh 8 India\n",
      "Satish Kaushik 8 India\n",
      "Imran Khan 8 India\n",
      "Arbaaz Khan 8 India\n",
      "Samy Maghawry 8 Egypt\n",
      "Bob Balaban 8 United States\n",
      "Nasser 8 India\n",
      "Maaya Uchida 8 Japan\n",
      "Femi Adebayo 8 Nigeria\n",
      "Martin Sheen 8 United States\n",
      "Stellan Skarsgård 8 Switzerland, United Kingdom, Australia\n",
      "Yui Horie 8 Japan\n",
      "Yogi Babu 8 India\n",
      "Falz 8 Nigeria\n",
      "Deepika Padukone 8 India\n",
      "Leonardo Sbaraglia 8 Argentina, Spain\n",
      "Oliver Platt 8 United States\n",
      "Tom Hanks 8 United States, Canada\n",
      "Jesse Plemons 8 United States\n",
      "Keiji Fujiwara 8 Japan\n",
      "Philip Baker Hall 8 United States\n",
      "Seann William Scott 8 Spain, United Kingdom, United States\n",
      "Jeff Bridges 8 United States\n",
      "Tommy Lee Jones 8 United States\n",
      "Bradley Cooper 8 United States\n",
      "Chris Attoh 8 Nigeria\n",
      "Rana Daggubati 8 India\n",
      "Stephen Root 8 United States, Canada\n",
      "Elle Fanning 8 United States\n",
      "Jackson Rathbone 8 United States\n",
      "Shia LaBeouf 8 United States, Canada\n",
      "Sarah Gadon 8 United States, Canada\n",
      "Jesse Eisenberg 8 United States, Switzerland\n",
      "Reese Witherspoon 8 United States\n",
      "Bryce Papenbrook 8 South Korea\n",
      "Octavia Spencer 8 South Korea, Czech Republic\n",
      "Alison Pill 8 South Korea, Czech Republic\n",
      "Mindy Sterling 8 United States\n",
      "Heather Graham 8 United States\n",
      "Mark Wahlberg 8 United States\n",
      "Josh Duhamel 8 United States\n",
      "Rooney Mara 8 United Kingdom, Australia, United States\n",
      "Jennifer Aniston 8 United States\n",
      "Jake Johnson 8 United States, United Kingdom\n",
      "Ami Koshimizu 8 Japan\n",
      "Shizuka Ito 8 Japan\n",
      "Simon Pegg 8 United States, Germany\n",
      "Toby Huss 8 United States\n",
      "Leslie Bibb 8 United States\n",
      "Kevin Spacey 8 United Kingdom, Germany, Spain, United States\n",
      "Kate Winslet 8 United Kingdom, Germany, Spain, United States\n",
      "Ben Affleck 8 United States, Germany, Canada\n",
      "Ciarán Hinds 8 United States, Germany, Canada\n",
      "Brad Pitt 8 United States\n",
      "Ryotaro Okiayu 8 Japan\n",
      "Paul Reiser 8 United States\n",
      "James Cosmo 8 United Kingdom, United States\n",
      "Soma Saito 8 Japan\n",
      "Demián Bichir 8 United States\n",
      "Missi Pyle 8 United States\n",
      "Lisa Kudrow 8 United Kingdom\n",
      "Vinnie Jones 8 United States\n",
      "Jason Bateman 8 United States\n",
      "Tituss Burgess 8 United States\n",
      "Aaron Paul 8 United States\n",
      "Atsuko Tanaka 8 Japan\n",
      "Smita Jaykar 8 India\n",
      "Robert Forster 8 United States\n",
      "Neena Gupta 8 India\n",
      "Kumud Mishra 8 India\n",
      "Aditi Rao Hydari 8 India\n",
      "Rio Dewanto 8 Indonesia\n",
      "Enyinna Nwigwe 8 Nigeria\n",
      "T.I. 8 United States\n",
      "Jeffrey Wright 8 United States\n",
      "David Schwimmer 8 United States\n"
     ]
    },
    {
     "ename": "KeyError",
     "evalue": "'Saurav Chakraborty'",
     "output_type": "error",
     "traceback": [
      "\u001b[0;31m---------------------------------------------------------------------------\u001b[0m",
      "\u001b[0;31mKeyError\u001b[0m                                  Traceback (most recent call last)",
      "Input \u001b[0;32mIn [26]\u001b[0m, in \u001b[0;36m<cell line: 17>\u001b[0;34m()\u001b[0m\n\u001b[1;32m     15\u001b[0m                 actor_country[actor] \u001b[38;5;241m=\u001b[39m country\n\u001b[1;32m     17\u001b[0m \u001b[38;5;28;01mfor\u001b[39;00m actor \u001b[38;5;129;01min\u001b[39;00m \u001b[38;5;28msorted\u001b[39m(actor_count, key\u001b[38;5;241m=\u001b[39mactor_count\u001b[38;5;241m.\u001b[39mget, reverse\u001b[38;5;241m=\u001b[39m\u001b[38;5;28;01mTrue\u001b[39;00m):\n\u001b[0;32m---> 18\u001b[0m     \u001b[38;5;28mprint\u001b[39m(actor, actor_count[actor], \u001b[43mactor_country\u001b[49m\u001b[43m[\u001b[49m\u001b[43mactor\u001b[49m\u001b[43m]\u001b[49m)\n",
      "\u001b[0;31mKeyError\u001b[0m: 'Saurav Chakraborty'"
     ]
    }
   ],
   "source": [
    "actor_count = dict()\n",
    "actor_country = dict()\n",
    "for index, row in df.iterrows():\n",
    "    cast = row['cast']\n",
    "    country = row['country']\n",
    "    if isinstance(cast, str):\n",
    "        cur_actors = cast.split(', ')\n",
    "        for actor in cur_actors:\n",
    "            if actor in actor_count:\n",
    "                actor_count[actor] += 1\n",
    "            else:\n",
    "                actor_count[actor] = 1\n",
    "            \n",
    "            if actor not in actor_country and isinstance(country, str):\n",
    "                actor_country[actor] = country\n",
    "\n",
    "for actor in sorted(actor_count, key=actor_count.get, reverse=True):\n",
    "    print(actor, actor_count[actor], actor_country[actor])"
   ]
  },
  {
   "cell_type": "markdown",
   "id": "437776b6",
   "metadata": {},
   "source": [
    "Топ 10 популярных актеров:\n",
    "- Anupam Kher, India\n",
    "- Shah Rukh Khan, India\n",
    "- Julie Tejwani, India\n",
    "- Naseeruddin Shah, India\n",
    "- Takahiro Sakurai, Japan\n",
    "- Rupa Bhimani, India\n",
    "- Akshay Kumar, India\n",
    "- Om Puri, India\n",
    "- Yuki Kaji, Japan\n",
    "- Amitabh Bachchan, India\n",
    "\n",
    "Как можно заметить, большинство актеров топа из Индии. Посмотрим на топ актеров из разных стран:"
   ]
  },
  {
   "cell_type": "code",
   "execution_count": 27,
   "id": "8dd96872",
   "metadata": {},
   "outputs": [
    {
     "name": "stdout",
     "output_type": "stream",
     "text": [
      "United States\n",
      "   \n",
      "   Samuel L. Jackson\n",
      "   Fred Tatasciore\n",
      "   Tara Strong\n",
      "   Adam Sandler\n",
      "   David Attenborough\n",
      "\n",
      "United Kingdom\n",
      "   \n",
      "   Eric Idle\n",
      "   Terry Jones\n",
      "   Graham Chapman\n",
      "   Terry Gilliam\n",
      "   Keith Wickham\n",
      "\n",
      "Japan\n",
      "   \n",
      "   Takahiro Sakurai\n",
      "   Yuki Kaji\n",
      "   Daisuke Ono\n",
      "   Junichi Suwabe\n",
      "   Yuichi Nakamura\n",
      "\n"
     ]
    }
   ],
   "source": [
    "def get_sorted_from_country(country):\n",
    "    global actor_country\n",
    "    global actor_count\n",
    "    \n",
    "    top_list = []\n",
    "    \n",
    "    for actor in sorted(actor_count, key=actor_count.get, reverse=True):\n",
    "        if actor_country.get(actor) == country:\n",
    "            top_list.append(actor)\n",
    "    return top_list\n",
    "\n",
    "country_list = ['United States', 'United Kingdom', 'Japan']\n",
    "needed_top = 5\n",
    "\n",
    "for country in country_list:\n",
    "    print(country)\n",
    "    print('   ', *get_sorted_from_country(country)[0:needed_top], sep = '\\n   ')\n",
    "    print()\n"
   ]
  },
  {
   "cell_type": "markdown",
   "id": "787c51e7",
   "metadata": {},
   "source": [
    "Как видим, науиболее популярный актер в фильмах производства США  - Самуэль Дженксон, Великобритании - Эрик Айдл, Японии -Такахиро Сакурай"
   ]
  },
  {
   "cell_type": "markdown",
   "id": "bbb8722f",
   "metadata": {},
   "source": [
    "### Самые популярные режиссеры"
   ]
  },
  {
   "cell_type": "code",
   "execution_count": 28,
   "id": "8f91c5ea",
   "metadata": {},
   "outputs": [
    {
     "data": {
      "text/plain": [
       "Rajiv Chilaka                     19\n",
       "Raúl Campos, Jan Suter            18\n",
       "Marcus Raboy                      16\n",
       "Suhas Kadav                       16\n",
       "Jay Karas                         14\n",
       "                                  ..\n",
       "Raymie Muzquiz, Stu Livingston     1\n",
       "Joe Menendez                       1\n",
       "Eric Bross                         1\n",
       "Will Eisenberg                     1\n",
       "Mozez Singh                        1\n",
       "Name: director, Length: 4528, dtype: int64"
      ]
     },
     "execution_count": 28,
     "metadata": {},
     "output_type": "execute_result"
    }
   ],
   "source": [
    "df['director'].value_counts()"
   ]
  },
  {
   "cell_type": "markdown",
   "id": "e29ccb1b",
   "metadata": {},
   "source": [
    "Индийский режиссер Rajiv Chilaka снял аж 19 фильмов или ТВ-шоу."
   ]
  },
  {
   "cell_type": "markdown",
   "id": "7e58f980",
   "metadata": {},
   "source": [
    "### Какие жанры наиболее популярны?"
   ]
  },
  {
   "cell_type": "markdown",
   "id": "d9462acd",
   "metadata": {},
   "source": [
    "Попробуем достать информацию о самых популярных жанрах и проиллюстрировать полученную информацию графиком"
   ]
  },
  {
   "cell_type": "code",
   "execution_count": 29,
   "id": "1766d09b",
   "metadata": {},
   "outputs": [],
   "source": [
    "def get_genres(content_type):\n",
    "    genres_popularity = dict()\n",
    "    for index, row in df.iterrows():\n",
    "        if row['type'] != content_type:\n",
    "            continue\n",
    "        listed_in = row['listed_in']\n",
    "        if not isinstance(listed_in, str):\n",
    "            continue\n",
    "        cur_genres = listed_in.split(', ')\n",
    "        for genre in cur_genres:\n",
    "            if genre not in genres_popularity:\n",
    "                genres_popularity[genre] = 0\n",
    "            genres_popularity[genre] += 1\n",
    "    top_genres = []\n",
    "    for x in sorted(genres_popularity, key=genres_popularity.get, reverse=True):\n",
    "        top_genres.append([x, genres_popularity.get(x)])\n",
    "    return top_genres"
   ]
  },
  {
   "cell_type": "code",
   "execution_count": 30,
   "id": "bac9198e",
   "metadata": {},
   "outputs": [],
   "source": [
    "dict_movies = get_genres('Movie')\n",
    "dict_tvshows = get_genres('TV Show')"
   ]
  },
  {
   "cell_type": "code",
   "execution_count": 31,
   "id": "1ca133c3",
   "metadata": {},
   "outputs": [
    {
     "data": {
      "text/plain": [
       "Text(0.5, 1.0, 'genres popularity in movies')"
      ]
     },
     "execution_count": 31,
     "metadata": {},
     "output_type": "execute_result"
    },
    {
     "data": {
      "image/png": "[encoded data removed]",
      "text/plain": [
       "<Figure size 720x720 with 1 Axes>"
      ]
     },
     "metadata": {
      "needs_background": "light"
     },
     "output_type": "display_data"
    }
   ],
   "source": [
    "x_movies = []\n",
    "y_movies = []\n",
    "for pair in dict_movies:\n",
    "    x_movies.append(pair[0])\n",
    "    y_movies.append(pair[1])\n",
    "x_movies = x_movies[::-1]\n",
    "y_movies = y_movies[::-1]\n",
    "plt.figure(figsize=(10, 10))\n",
    "plt.barh(x_movies, y_movies)\n",
    "plt.title(\"genres popularity in movies\")"
   ]
  },
  {
   "cell_type": "markdown",
   "id": "780bc0bf",
   "metadata": {},
   "source": [
    "Видно, что среди фильмов самым популярным жанром является драма. После идут комедия, документальные фильмы и \"Action & Adventure\" - приключенческие фильмы."
   ]
  },
  {
   "cell_type": "code",
   "execution_count": 32,
   "id": "b1e80c6e",
   "metadata": {},
   "outputs": [
    {
     "data": {
      "text/plain": [
       "Text(0.5, 1.0, 'genres popularity in TV Shows')"
      ]
     },
     "execution_count": 32,
     "metadata": {},
     "output_type": "execute_result"
    },
    {
     "data": {
      "image/png": "[encoded data removed]",
      "text/plain": [
       "<Figure size 720x720 with 1 Axes>"
      ]
     },
     "metadata": {
      "needs_background": "light"
     },
     "output_type": "display_data"
    }
   ],
   "source": [
    "x_tvshows = []\n",
    "y_tvshows = []\n",
    "for pair in dict_tvshows:\n",
    "    x_tvshows.append(pair[0])\n",
    "    y_tvshows.append(pair[1])\n",
    "x_tvshows = x_tvshows[::-1]\n",
    "y_tvshows = y_tvshows[::-1]\n",
    "plt.figure(figsize=(10, 10))\n",
    "plt.barh(x_tvshows, y_tvshows)\n",
    "plt.title(\"genres popularity in TV Shows\")"
   ]
  },
  {
   "cell_type": "markdown",
   "id": "1a4d4be5",
   "metadata": {},
   "source": [
    "Среди ТВ-шоу самыми популярными являются: драмы, комедии, \"Crime TV Shows\" и шоу для детей."
   ]
  },
  {
   "cell_type": "markdown",
   "id": "dfba5e31",
   "metadata": {},
   "source": [
    "**Вывод:** самым популярным жанром и для фильмов, и для ТВ-шоу является драма, а на втором месте - комедия. "
   ]
  }
 ],
 "metadata": {
  "kernelspec": {
   "display_name": "Python 3 (ipykernel)",
   "language": "python",
   "name": "python3"
  },
  "language_info": {
   "codemirror_mode": {
    "name": "ipython",
    "version": 3
   },
   "file_extension": ".py",
   "mimetype": "text/x-python",
   "name": "python",
   "nbconvert_exporter": "python",
   "pygments_lexer": "ipython3",
   "version": "3.9.12"
  }
 },
 "nbformat": 4,
 "nbformat_minor": 5
}
